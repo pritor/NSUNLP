{
 "cells": [
  {
   "cell_type": "code",
   "execution_count": 29,
   "metadata": {
    "id": "2LYbIEjx1o6S",
    "colab": {
     "base_uri": "https://localhost:8080/"
    },
    "outputId": "7988463b-1709-4ced-f67d-5f291375691c"
   },
   "outputs": [
    {
     "name": "stdout",
     "output_type": "stream",
     "text": [
      "Defaulting to user installation because normal site-packages is not writeable\n",
      "Collecting ru-core-news-sm==3.6.0\n",
      "  Downloading https://github.com/explosion/spacy-models/releases/download/ru_core_news_sm-3.6.0/ru_core_news_sm-3.6.0-py3-none-any.whl (15.3 MB)\n",
      "     ---------------------------------------- 0.0/15.3 MB ? eta -:--:--\n",
      "     ---------------------------------------- 0.0/15.3 MB ? eta -:--:--\n",
      "     ---------------------------------------- 0.0/15.3 MB ? eta -:--:--\n",
      "     ---------------------------------------- 0.0/15.3 MB ? eta -:--:--\n",
      "     ---------------------------------------- 0.0/15.3 MB ? eta -:--:--\n",
      "     ---------------------------------------- 0.0/15.3 MB 93.1 kB/s eta 0:02:44\n",
      "     ---------------------------------------- 0.0/15.3 MB 93.1 kB/s eta 0:02:44\n",
      "     ---------------------------------------- 0.0/15.3 MB 93.1 kB/s eta 0:02:44\n",
      "     --------------------------------------- 0.0/15.3 MB 122.9 kB/s eta 0:02:04\n",
      "     --------------------------------------- 0.0/15.3 MB 122.9 kB/s eta 0:02:04\n",
      "     --------------------------------------- 0.1/15.3 MB 208.4 kB/s eta 0:01:13\n",
      "     --------------------------------------- 0.1/15.3 MB 288.1 kB/s eta 0:00:53\n",
      "     --------------------------------------- 0.2/15.3 MB 339.1 kB/s eta 0:00:45\n",
      "      -------------------------------------- 0.2/15.3 MB 471.0 kB/s eta 0:00:32\n",
      "      -------------------------------------- 0.3/15.3 MB 542.9 kB/s eta 0:00:28\n",
      "     - ------------------------------------- 0.5/15.3 MB 775.8 kB/s eta 0:00:20\n",
      "     - ------------------------------------- 0.6/15.3 MB 926.6 kB/s eta 0:00:16\n",
      "     - -------------------------------------- 0.7/15.3 MB 1.1 MB/s eta 0:00:14\n",
      "     -- ------------------------------------- 1.0/15.3 MB 1.3 MB/s eta 0:00:11\n",
      "     --- ------------------------------------ 1.2/15.3 MB 1.5 MB/s eta 0:00:10\n",
      "     --- ------------------------------------ 1.4/15.3 MB 1.7 MB/s eta 0:00:09\n",
      "     ---- ----------------------------------- 1.6/15.3 MB 1.8 MB/s eta 0:00:08\n",
      "     ---- ----------------------------------- 1.7/15.3 MB 1.9 MB/s eta 0:00:08\n",
      "     ----- ---------------------------------- 1.9/15.3 MB 2.0 MB/s eta 0:00:07\n",
      "     ----- ---------------------------------- 2.2/15.3 MB 2.1 MB/s eta 0:00:07\n",
      "     ------ --------------------------------- 2.3/15.3 MB 2.2 MB/s eta 0:00:06\n",
      "     ------ --------------------------------- 2.5/15.3 MB 2.3 MB/s eta 0:00:06\n",
      "     ------ --------------------------------- 2.6/15.3 MB 2.3 MB/s eta 0:00:06\n",
      "     ------ --------------------------------- 2.6/15.3 MB 2.3 MB/s eta 0:00:06\n",
      "     ------ --------------------------------- 2.6/15.3 MB 2.3 MB/s eta 0:00:06\n",
      "     ------ --------------------------------- 2.6/15.3 MB 2.3 MB/s eta 0:00:06\n",
      "     ------ --------------------------------- 2.6/15.3 MB 2.3 MB/s eta 0:00:06\n",
      "     ------ --------------------------------- 2.6/15.3 MB 2.3 MB/s eta 0:00:06\n",
      "     ------ --------------------------------- 2.6/15.3 MB 2.3 MB/s eta 0:00:06\n",
      "     ----------- ---------------------------- 4.2/15.3 MB 2.8 MB/s eta 0:00:04\n",
      "     ----------- ---------------------------- 4.4/15.3 MB 2.8 MB/s eta 0:00:04\n",
      "     ----------- ---------------------------- 4.6/15.3 MB 2.9 MB/s eta 0:00:04\n",
      "     ------------ --------------------------- 4.8/15.3 MB 2.9 MB/s eta 0:00:04\n",
      "     ------------- -------------------------- 5.0/15.3 MB 2.9 MB/s eta 0:00:04\n",
      "     ------------- -------------------------- 5.2/15.3 MB 3.0 MB/s eta 0:00:04\n",
      "     -------------- ------------------------- 5.5/15.3 MB 3.1 MB/s eta 0:00:04\n",
      "     -------------- ------------------------- 5.7/15.3 MB 3.1 MB/s eta 0:00:04\n",
      "     --------------- ------------------------ 5.9/15.3 MB 3.1 MB/s eta 0:00:04\n",
      "     --------------- ------------------------ 6.1/15.3 MB 3.2 MB/s eta 0:00:03\n",
      "     ---------------- ----------------------- 6.3/15.3 MB 3.2 MB/s eta 0:00:03\n",
      "     ---------------- ----------------------- 6.5/15.3 MB 3.2 MB/s eta 0:00:03\n",
      "     ----------------- ---------------------- 6.7/15.3 MB 3.2 MB/s eta 0:00:03\n",
      "     ------------------ --------------------- 7.0/15.3 MB 3.3 MB/s eta 0:00:03\n",
      "     ------------------ --------------------- 7.2/15.3 MB 3.3 MB/s eta 0:00:03\n",
      "     ------------------- -------------------- 7.4/15.3 MB 3.3 MB/s eta 0:00:03\n",
      "     ------------------- -------------------- 7.6/15.3 MB 3.3 MB/s eta 0:00:03\n",
      "     -------------------- ------------------- 7.7/15.3 MB 3.4 MB/s eta 0:00:03\n",
      "     -------------------- ------------------- 8.0/15.3 MB 3.4 MB/s eta 0:00:03\n",
      "     --------------------- ------------------ 8.2/15.3 MB 3.4 MB/s eta 0:00:03\n",
      "     ---------------------- ----------------- 8.4/15.3 MB 3.4 MB/s eta 0:00:02\n",
      "     ---------------------- ----------------- 8.7/15.3 MB 3.5 MB/s eta 0:00:02\n",
      "     ----------------------- ---------------- 8.9/15.3 MB 3.5 MB/s eta 0:00:02\n",
      "     ----------------------- ---------------- 9.1/15.3 MB 3.5 MB/s eta 0:00:02\n",
      "     ------------------------ --------------- 9.4/15.3 MB 3.5 MB/s eta 0:00:02\n",
      "     ------------------------- -------------- 9.6/15.3 MB 3.6 MB/s eta 0:00:02\n",
      "     ------------------------- -------------- 9.9/15.3 MB 3.6 MB/s eta 0:00:02\n",
      "     -------------------------- ------------- 10.1/15.3 MB 3.6 MB/s eta 0:00:02\n",
      "     --------------------------- ------------ 10.4/15.3 MB 4.3 MB/s eta 0:00:02\n",
      "     --------------------------- ------------ 10.7/15.3 MB 4.5 MB/s eta 0:00:02\n",
      "     ---------------------------- ----------- 10.9/15.3 MB 4.5 MB/s eta 0:00:01\n",
      "     ----------------------------- ---------- 11.2/15.3 MB 4.6 MB/s eta 0:00:01\n",
      "     ------------------------------ --------- 11.5/15.3 MB 4.6 MB/s eta 0:00:01\n",
      "     ------------------------------ --------- 11.7/15.3 MB 4.6 MB/s eta 0:00:01\n",
      "     ------------------------------- -------- 12.0/15.3 MB 4.7 MB/s eta 0:00:01\n",
      "     -------------------------------- ------- 12.2/15.3 MB 4.6 MB/s eta 0:00:01\n",
      "     -------------------------------- ------- 12.5/15.3 MB 4.7 MB/s eta 0:00:01\n",
      "     --------------------------------- ------ 12.6/15.3 MB 4.7 MB/s eta 0:00:01\n",
      "     --------------------------------- ------ 12.9/15.3 MB 5.5 MB/s eta 0:00:01\n",
      "     ---------------------------------- ----- 13.1/15.3 MB 5.4 MB/s eta 0:00:01\n",
      "     ---------------------------------- ----- 13.3/15.3 MB 5.2 MB/s eta 0:00:01\n",
      "     ----------------------------------- ---- 13.6/15.3 MB 5.1 MB/s eta 0:00:01\n",
      "     ------------------------------------ --- 13.8/15.3 MB 5.0 MB/s eta 0:00:01\n",
      "     ------------------------------------ --- 14.1/15.3 MB 4.9 MB/s eta 0:00:01\n",
      "     ------------------------------------- -- 14.2/15.3 MB 4.8 MB/s eta 0:00:01\n",
      "     ------------------------------------- -- 14.4/15.3 MB 4.7 MB/s eta 0:00:01\n",
      "     -------------------------------------- - 14.6/15.3 MB 4.8 MB/s eta 0:00:01\n",
      "     -------------------------------------- - 14.8/15.3 MB 4.8 MB/s eta 0:00:01\n",
      "     ---------------------------------------  15.0/15.3 MB 4.8 MB/s eta 0:00:01\n",
      "     ---------------------------------------  15.2/15.3 MB 4.8 MB/s eta 0:00:01\n",
      "     ---------------------------------------- 15.3/15.3 MB 4.7 MB/s eta 0:00:00\n",
      "Requirement already satisfied: spacy<3.7.0,>=3.6.0 in c:\\users\\petya\\appdata\\roaming\\python\\python310\\site-packages (from ru-core-news-sm==3.6.0) (3.6.1)\n",
      "Requirement already satisfied: pymorphy3>=1.0.0 in c:\\users\\petya\\appdata\\roaming\\python\\python310\\site-packages (from ru-core-news-sm==3.6.0) (1.2.1)\n",
      "Requirement already satisfied: dawg-python>=0.7.1 in c:\\users\\petya\\appdata\\roaming\\python\\python310\\site-packages (from pymorphy3>=1.0.0->ru-core-news-sm==3.6.0) (0.7.2)\n",
      "Requirement already satisfied: pymorphy3-dicts-ru in c:\\users\\petya\\appdata\\roaming\\python\\python310\\site-packages (from pymorphy3>=1.0.0->ru-core-news-sm==3.6.0) (2.4.417150.4580142)\n",
      "Requirement already satisfied: docopt-ng>=0.6 in c:\\users\\petya\\appdata\\roaming\\python\\python310\\site-packages (from pymorphy3>=1.0.0->ru-core-news-sm==3.6.0) (0.9.0)\n",
      "Requirement already satisfied: catalogue<2.1.0,>=2.0.6 in c:\\users\\petya\\appdata\\roaming\\python\\python310\\site-packages (from spacy<3.7.0,>=3.6.0->ru-core-news-sm==3.6.0) (2.0.9)\n",
      "Requirement already satisfied: packaging>=20.0 in c:\\program files\\python310\\lib\\site-packages (from spacy<3.7.0,>=3.6.0->ru-core-news-sm==3.6.0) (21.3)\n",
      "Requirement already satisfied: pathy>=0.10.0 in c:\\users\\petya\\appdata\\roaming\\python\\python310\\site-packages (from spacy<3.7.0,>=3.6.0->ru-core-news-sm==3.6.0) (0.10.2)\n",
      "Requirement already satisfied: numpy>=1.15.0 in c:\\program files\\python310\\lib\\site-packages (from spacy<3.7.0,>=3.6.0->ru-core-news-sm==3.6.0) (1.23.3)\n",
      "Requirement already satisfied: tqdm<5.0.0,>=4.38.0 in c:\\users\\petya\\appdata\\roaming\\python\\python310\\site-packages (from spacy<3.7.0,>=3.6.0->ru-core-news-sm==3.6.0) (4.64.1)\n",
      "Requirement already satisfied: jinja2 in c:\\program files\\python310\\lib\\site-packages (from spacy<3.7.0,>=3.6.0->ru-core-news-sm==3.6.0) (3.1.2)\n",
      "Requirement already satisfied: smart-open<7.0.0,>=5.2.1 in c:\\users\\petya\\appdata\\roaming\\python\\python310\\site-packages (from spacy<3.7.0,>=3.6.0->ru-core-news-sm==3.6.0) (6.4.0)\n",
      "Requirement already satisfied: spacy-legacy<3.1.0,>=3.0.11 in c:\\users\\petya\\appdata\\roaming\\python\\python310\\site-packages (from spacy<3.7.0,>=3.6.0->ru-core-news-sm==3.6.0) (3.0.12)\n",
      "Requirement already satisfied: srsly<3.0.0,>=2.4.3 in c:\\users\\petya\\appdata\\roaming\\python\\python310\\site-packages (from spacy<3.7.0,>=3.6.0->ru-core-news-sm==3.6.0) (2.4.7)\n",
      "Requirement already satisfied: spacy-loggers<2.0.0,>=1.0.0 in c:\\users\\petya\\appdata\\roaming\\python\\python310\\site-packages (from spacy<3.7.0,>=3.6.0->ru-core-news-sm==3.6.0) (1.0.5)\n",
      "Requirement already satisfied: cymem<2.1.0,>=2.0.2 in c:\\users\\petya\\appdata\\roaming\\python\\python310\\site-packages (from spacy<3.7.0,>=3.6.0->ru-core-news-sm==3.6.0) (2.0.7)\n",
      "Requirement already satisfied: murmurhash<1.1.0,>=0.28.0 in c:\\users\\petya\\appdata\\roaming\\python\\python310\\site-packages (from spacy<3.7.0,>=3.6.0->ru-core-news-sm==3.6.0) (1.0.9)\n",
      "Requirement already satisfied: pydantic!=1.8,!=1.8.1,<3.0.0,>=1.7.4 in c:\\users\\petya\\appdata\\roaming\\python\\python310\\site-packages (from spacy<3.7.0,>=3.6.0->ru-core-news-sm==3.6.0) (2.3.0)\n",
      "Requirement already satisfied: requests<3.0.0,>=2.13.0 in c:\\users\\petya\\appdata\\roaming\\python\\python310\\site-packages (from spacy<3.7.0,>=3.6.0->ru-core-news-sm==3.6.0) (2.28.2)\n",
      "Requirement already satisfied: wasabi<1.2.0,>=0.9.1 in c:\\users\\petya\\appdata\\roaming\\python\\python310\\site-packages (from spacy<3.7.0,>=3.6.0->ru-core-news-sm==3.6.0) (1.1.2)\n",
      "Requirement already satisfied: setuptools in c:\\users\\petya\\appdata\\roaming\\python\\python310\\site-packages (from spacy<3.7.0,>=3.6.0->ru-core-news-sm==3.6.0) (67.7.2)\n",
      "Requirement already satisfied: langcodes<4.0.0,>=3.2.0 in c:\\users\\petya\\appdata\\roaming\\python\\python310\\site-packages (from spacy<3.7.0,>=3.6.0->ru-core-news-sm==3.6.0) (3.3.0)\n",
      "Requirement already satisfied: preshed<3.1.0,>=3.0.2 in c:\\users\\petya\\appdata\\roaming\\python\\python310\\site-packages (from spacy<3.7.0,>=3.6.0->ru-core-news-sm==3.6.0) (3.0.8)\n",
      "Requirement already satisfied: thinc<8.2.0,>=8.1.8 in c:\\users\\petya\\appdata\\roaming\\python\\python310\\site-packages (from spacy<3.7.0,>=3.6.0->ru-core-news-sm==3.6.0) (8.1.12)\n",
      "Requirement already satisfied: typer<0.10.0,>=0.3.0 in c:\\users\\petya\\appdata\\roaming\\python\\python310\\site-packages (from spacy<3.7.0,>=3.6.0->ru-core-news-sm==3.6.0) (0.9.0)\n",
      "Requirement already satisfied: pyparsing!=3.0.5,>=2.0.2 in c:\\program files\\python310\\lib\\site-packages (from packaging>=20.0->spacy<3.7.0,>=3.6.0->ru-core-news-sm==3.6.0) (3.0.9)\n",
      "Requirement already satisfied: annotated-types>=0.4.0 in c:\\users\\petya\\appdata\\roaming\\python\\python310\\site-packages (from pydantic!=1.8,!=1.8.1,<3.0.0,>=1.7.4->spacy<3.7.0,>=3.6.0->ru-core-news-sm==3.6.0) (0.5.0)\n",
      "Requirement already satisfied: typing-extensions>=4.6.1 in c:\\users\\petya\\appdata\\roaming\\python\\python310\\site-packages (from pydantic!=1.8,!=1.8.1,<3.0.0,>=1.7.4->spacy<3.7.0,>=3.6.0->ru-core-news-sm==3.6.0) (4.7.1)\n",
      "Requirement already satisfied: pydantic-core==2.6.3 in c:\\users\\petya\\appdata\\roaming\\python\\python310\\site-packages (from pydantic!=1.8,!=1.8.1,<3.0.0,>=1.7.4->spacy<3.7.0,>=3.6.0->ru-core-news-sm==3.6.0) (2.6.3)\n",
      "Requirement already satisfied: urllib3<1.27,>=1.21.1 in c:\\users\\petya\\appdata\\roaming\\python\\python310\\site-packages (from requests<3.0.0,>=2.13.0->spacy<3.7.0,>=3.6.0->ru-core-news-sm==3.6.0) (1.26.14)\n",
      "Requirement already satisfied: idna<4,>=2.5 in c:\\users\\petya\\appdata\\roaming\\python\\python310\\site-packages (from requests<3.0.0,>=2.13.0->spacy<3.7.0,>=3.6.0->ru-core-news-sm==3.6.0) (3.4)\n",
      "Requirement already satisfied: certifi>=2017.4.17 in c:\\users\\petya\\appdata\\roaming\\python\\python310\\site-packages (from requests<3.0.0,>=2.13.0->spacy<3.7.0,>=3.6.0->ru-core-news-sm==3.6.0) (2022.12.7)\n",
      "Requirement already satisfied: charset-normalizer<4,>=2 in c:\\users\\petya\\appdata\\roaming\\python\\python310\\site-packages (from requests<3.0.0,>=2.13.0->spacy<3.7.0,>=3.6.0->ru-core-news-sm==3.6.0) (3.0.1)\n",
      "Requirement already satisfied: blis<0.8.0,>=0.7.8 in c:\\users\\petya\\appdata\\roaming\\python\\python310\\site-packages (from thinc<8.2.0,>=8.1.8->spacy<3.7.0,>=3.6.0->ru-core-news-sm==3.6.0) (0.7.10)\n",
      "Requirement already satisfied: confection<1.0.0,>=0.0.1 in c:\\users\\petya\\appdata\\roaming\\python\\python310\\site-packages (from thinc<8.2.0,>=8.1.8->spacy<3.7.0,>=3.6.0->ru-core-news-sm==3.6.0) (0.1.3)\n",
      "Requirement already satisfied: colorama in c:\\users\\petya\\appdata\\roaming\\python\\python310\\site-packages (from tqdm<5.0.0,>=4.38.0->spacy<3.7.0,>=3.6.0->ru-core-news-sm==3.6.0) (0.4.6)\n",
      "Requirement already satisfied: click<9.0.0,>=7.1.1 in c:\\users\\petya\\appdata\\roaming\\python\\python310\\site-packages (from typer<0.10.0,>=0.3.0->spacy<3.7.0,>=3.6.0->ru-core-news-sm==3.6.0) (8.1.7)\n",
      "Requirement already satisfied: MarkupSafe>=2.0 in c:\\program files\\python310\\lib\\site-packages (from jinja2->spacy<3.7.0,>=3.6.0->ru-core-news-sm==3.6.0) (2.1.2)\n",
      "\u001B[38;5;2m[+] Download and installation successful\u001B[0m\n",
      "You can now load the package via spacy.load('ru_core_news_sm')\n"
     ]
    },
    {
     "name": "stderr",
     "output_type": "stream",
     "text": [
      "\n",
      "[notice] A new release of pip is available: 23.0.1 -> 23.2.1\n",
      "[notice] To update, run: python.exe -m pip install --upgrade pip\n"
     ]
    }
   ],
   "source": [
    "!python -m spacy download ru_core_news_sm"
   ]
  },
  {
   "cell_type": "code",
   "execution_count": 4,
   "outputs": [
    {
     "name": "stdout",
     "output_type": "stream",
     "text": [
      "\u001B[38;5;2m[+] Auto-filled config with all values\u001B[0m\n",
      "\u001B[38;5;2m[+] Saved config\u001B[0m\n",
      "config.cfg\n",
      "You can now add your data and train your pipeline:\n",
      "python -m spacy train config.cfg --paths.train ./train.spacy --paths.dev ./dev.spacy\n"
     ]
    }
   ],
   "source": [
    "!python -m spacy init fill-config base_config.cfg config.cfg"
   ],
   "metadata": {
    "collapsed": false
   }
  },
  {
   "cell_type": "code",
   "execution_count": 8,
   "outputs": [
    {
     "name": "stdout",
     "output_type": "stream",
     "text": [
      "\u001B[38;5;4m[i] Saving to output directory: output\u001B[0m\n",
      "\u001B[38;5;4m[i] Using GPU: 0\u001B[0m\n",
      "\u001B[1m\n",
      "=========================== Initializing pipeline ===========================\u001B[0m\n"
     ]
    },
    {
     "name": "stderr",
     "output_type": "stream",
     "text": [
      "Traceback (most recent call last):\n",
      "  File \"C:\\Users\\petya\\AppData\\Roaming\\Python\\Python310\\site-packages\\spacy\\tokens\\_serialize.py\", line 228, in from_bytes\n",
      "    msg = srsly.msgpack_loads(zlib.decompress(bytes_data))\n",
      "zlib.error: Error -5 while decompressing data: incomplete or truncated stream\n",
      "\n",
      "During handling of the above exception, another exception occurred:\n",
      "\n",
      "Traceback (most recent call last):\n",
      "  File \"C:\\Program Files\\Python310\\lib\\runpy.py\", line 196, in _run_module_as_main\n",
      "    return _run_code(code, main_globals, None,\n",
      "  File \"C:\\Program Files\\Python310\\lib\\runpy.py\", line 86, in _run_code\n",
      "    exec(code, run_globals)\n",
      "  File \"C:\\Users\\petya\\AppData\\Roaming\\Python\\Python310\\site-packages\\spacy\\__main__.py\", line 4, in <module>\n",
      "    setup_cli()\n",
      "  File \"C:\\Users\\petya\\AppData\\Roaming\\Python\\Python310\\site-packages\\spacy\\cli\\_util.py\", line 92, in setup_cli\n",
      "    command(prog_name=COMMAND)\n",
      "  File \"C:\\Users\\petya\\AppData\\Roaming\\Python\\Python310\\site-packages\\click\\core.py\", line 1157, in __call__\n",
      "    return self.main(*args, **kwargs)\n",
      "  File \"C:\\Users\\petya\\AppData\\Roaming\\Python\\Python310\\site-packages\\typer\\core.py\", line 778, in main\n",
      "    return _main(\n",
      "  File \"C:\\Users\\petya\\AppData\\Roaming\\Python\\Python310\\site-packages\\typer\\core.py\", line 216, in _main\n",
      "    rv = self.invoke(ctx)\n",
      "  File \"C:\\Users\\petya\\AppData\\Roaming\\Python\\Python310\\site-packages\\click\\core.py\", line 1688, in invoke\n",
      "    return _process_result(sub_ctx.command.invoke(sub_ctx))\n",
      "  File \"C:\\Users\\petya\\AppData\\Roaming\\Python\\Python310\\site-packages\\click\\core.py\", line 1434, in invoke\n",
      "    return ctx.invoke(self.callback, **ctx.params)\n",
      "  File \"C:\\Users\\petya\\AppData\\Roaming\\Python\\Python310\\site-packages\\click\\core.py\", line 783, in invoke\n",
      "    return __callback(*args, **kwargs)\n",
      "  File \"C:\\Users\\petya\\AppData\\Roaming\\Python\\Python310\\site-packages\\typer\\main.py\", line 683, in wrapper\n",
      "    return callback(**use_params)  # type: ignore\n",
      "  File \"C:\\Users\\petya\\AppData\\Roaming\\Python\\Python310\\site-packages\\spacy\\cli\\train.py\", line 54, in train_cli\n",
      "    train(config_path, output_path, use_gpu=use_gpu, overrides=overrides)\n",
      "  File \"C:\\Users\\petya\\AppData\\Roaming\\Python\\Python310\\site-packages\\spacy\\cli\\train.py\", line 81, in train\n",
      "    nlp = init_nlp(config, use_gpu=use_gpu)\n",
      "  File \"C:\\Users\\petya\\AppData\\Roaming\\Python\\Python310\\site-packages\\spacy\\training\\initialize.py\", line 95, in init_nlp\n",
      "    nlp.initialize(lambda: train_corpus(nlp), sgd=optimizer)\n",
      "  File \"C:\\Users\\petya\\AppData\\Roaming\\Python\\Python310\\site-packages\\spacy\\language.py\", line 1342, in initialize\n",
      "    proc.initialize(get_examples, nlp=self, **p_settings)\n",
      "  File \"C:\\Users\\petya\\AppData\\Roaming\\Python\\Python310\\site-packages\\spacy\\pipeline\\textcat.py\", line 373, in initialize\n",
      "    validate_get_examples(get_examples, \"TextCategorizer.initialize\")\n",
      "  File \"spacy\\training\\example.pyx\", line 74, in spacy.training.example.validate_get_examples\n",
      "  File \"spacy\\training\\example.pyx\", line 53, in spacy.training.example.validate_examples\n",
      "  File \"C:\\Users\\petya\\AppData\\Roaming\\Python\\Python310\\site-packages\\spacy\\training\\corpus.py\", line 164, in __call__\n",
      "    for real_eg in examples:\n",
      "  File \"C:\\Users\\petya\\AppData\\Roaming\\Python\\Python310\\site-packages\\spacy\\training\\corpus.py\", line 186, in make_examples\n",
      "    for reference in reference_docs:\n",
      "  File \"C:\\Users\\petya\\AppData\\Roaming\\Python\\Python310\\site-packages\\spacy\\training\\corpus.py\", line 219, in read_docbin\n",
      "    doc_bin = DocBin().from_disk(loc)\n",
      "  File \"C:\\Users\\petya\\AppData\\Roaming\\Python\\Python310\\site-packages\\spacy\\tokens\\_serialize.py\", line 276, in from_disk\n",
      "    self.from_bytes(file_.read())\n",
      "  File \"C:\\Users\\petya\\AppData\\Roaming\\Python\\Python310\\site-packages\\spacy\\tokens\\_serialize.py\", line 230, in from_bytes\n",
      "    raise ValueError(Errors.E1014)\n",
      "ValueError: [E1014] Error loading DocBin data. It doesn't look like the data is in DocBin (.spacy) format. If your data is in spaCy v2's JSON training format, convert it using `python -m spacy convert file.json .`.\n"
     ]
    }
   ],
   "source": [
    "!python -m spacy train config.cfg --output ./output --paths.train ./train.spacy --paths.dev ./dev.spacy --gpu-id 0"
   ],
   "metadata": {
    "collapsed": false
   }
  },
  {
   "cell_type": "code",
   "execution_count": 1,
   "metadata": {
    "id": "ALn_QDMnGY7Y"
   },
   "outputs": [],
   "source": [
    "import spacy\n",
    "import pandas as pd\n",
    "\n",
    "from tqdm import tqdm\n",
    "from spacy.tokens import DocBin\n",
    "nlp = spacy.load(\"ru_core_news_sm\")"
   ]
  },
  {
   "cell_type": "markdown",
   "source": [],
   "metadata": {
    "collapsed": false
   }
  },
  {
   "cell_type": "code",
   "execution_count": 2,
   "metadata": {
    "id": "OiCg-Nr2Ga3Z"
   },
   "outputs": [],
   "source": [
    "def make_docs(data):\n",
    "    \"\"\"\n",
    "    this will take a list of texts and labels\n",
    "    and transform them in spacy documents\n",
    "    data: list(tuple(text, label))\n",
    "    returns: List(spacy.Doc.doc)\n",
    "    \"\"\"\n",
    "    docs = []\n",
    "    # nlp.pipe([texts]) is way faster than running\n",
    "    # nlp(text) for each text\n",
    "    # as_tuples allows us to pass in a tuple,\n",
    "    # the first one is treated as text\n",
    "    # the second one will get returned as it is.\n",
    "    # a = tqdm(nlp.pipe(data, as_tuples=True), total = len(data))\n",
    "    for doc, label in tqdm(nlp.pipe(data, as_tuples=True), total = len(data)):\n",
    "        if label == 2:\n",
    "            doc.cats[\"positive\"] = 0\n",
    "            doc.cats[\"negative\"] = 1\n",
    "        else:\n",
    "            doc.cats[\"positive\"] = 1\n",
    "            doc.cats[\"negative\"] = 0\n",
    "        # we need to set the (text)cat(egory) for each document\n",
    "        #doc.cats[\"positive\"] = label\n",
    "        # put them into a nice list\n",
    "        docs.append(doc)\n",
    "    return docs"
   ]
  },
  {
   "cell_type": "code",
   "execution_count": 3,
   "outputs": [
    {
     "name": "stdout",
     "output_type": "stream",
     "text": [
      "Index(['text', 'sentiment'], dtype='object')\n",
      "9983\n",
      "1    18130\n",
      "2     9983\n",
      "Name: sentiment, dtype: int64\n"
     ]
    }
   ],
   "source": [
    "df = pd.read_csv('train.csv', encoding=\"utf8\")\n",
    "df_valid = pd.read_csv('valid.csv', encoding=\"utf8\")\n",
    "df = df.drop('Unnamed: 0',  axis=1)\n",
    "\n",
    "df = df[df['sentiment'] != 0]\n",
    "df_valid = df_valid[df_valid['sentiment']!=0]\n",
    "df_valid = df_valid.drop('Unnamed: 0', axis=1)\n",
    "print(df_valid.columns)\n",
    "#take only one tenth of the whole dataset\n",
    "df = df.sample(frac=0.2)\n",
    "class_counts = df['sentiment'].value_counts()\n",
    "#this is the measure against class disbalance\n",
    "#in balanced_df we will recieve df with equality in quantity between classes\n",
    "min_count = class_counts.min()\n",
    "print(min_count)\n",
    "balanced_df = df.groupby('sentiment').apply(lambda x: x.sample(n=min_count)).reset_index(drop=True)\n",
    "#due to groupby balanced_df will be ordered, so we will shuffle dataframe\n",
    "balanced_df = df.sample(frac=1).reset_index(drop=True)\n",
    "print(df['sentiment'].value_counts())\n",
    "\n",
    "train_data = [tuple((balanced_df.sample(frac=1)).iloc[i].values) for i in range((balanced_df.sample(frac=1)).shape[0])]\n",
    "valid_data = [tuple(df_valid.iloc[i].values) for i in range(df_valid.shape[0])]\n",
    "\n"
   ],
   "metadata": {
    "collapsed": false
   }
  },
  {
   "cell_type": "code",
   "execution_count": 4,
   "metadata": {
    "id": "ogVuX_fKGdrb",
    "colab": {
     "base_uri": "https://localhost:8080/"
    },
    "outputId": "c0236c3b-1c3c-43ba-94bc-ac40da2b4619"
   },
   "outputs": [
    {
     "name": "stderr",
     "output_type": "stream",
     "text": [
      "100%|██████████| 28113/28113 [14:11<00:00, 33.02it/s]\n"
     ]
    }
   ],
   "source": [
    "# we are so far only interested in the first 5000 reviews\n",
    "# this will keep the training time short.\n",
    "# In practice take as much data as you can get.\n",
    "# you can always reduce it to make the script even faster.\n",
    "\n",
    "# first we need to transform all the training data\n",
    "train_docs = make_docs(train_data)"
   ]
  },
  {
   "cell_type": "code",
   "execution_count": 5,
   "metadata": {
    "id": "hL3c5jIJHijB",
    "colab": {
     "base_uri": "https://localhost:8080/"
    },
    "outputId": "487bfd73-ee5a-4044-dd7b-8d3de741cc8c"
   },
   "outputs": [
    {
     "name": "stderr",
     "output_type": "stream",
     "text": [
      "100%|██████████| 5000/5000 [02:36<00:00, 31.98it/s]\n"
     ]
    }
   ],
   "source": [
    "\n",
    "# then we save it in a binary file to disc\n",
    "doc_bin = DocBin(docs=train_docs)\n",
    "doc_bin.to_disk(\"train.spacy\")\n",
    "# repeat for validation data\n",
    "valid_docs = make_docs(valid_data[:5000])\n",
    "doc_bin = DocBin(docs=valid_docs)\n",
    "doc_bin.to_disk(\"valid.spacy\")"
   ]
  },
  {
   "cell_type": "markdown",
   "metadata": {
    "id": "alCdl9QopLef"
   },
   "source": [
    "на этом месте мы идем в https://spacy.io/usage/training#quickstart, там настраиваем под себя конфиг (textcat), копируем его руками(!) в base_config.cfg, указываем правильные пути до трейн и вэлид\n"
   ]
  },
  {
   "cell_type": "code",
   "execution_count": 9,
   "metadata": {
    "id": "NhI_K_zoHRst",
    "colab": {
     "base_uri": "https://localhost:8080/"
    },
    "outputId": "de18350b-cfd0-4163-98fd-2eaa31822b4d"
   },
   "outputs": [
    {
     "name": "stdout",
     "output_type": "stream",
     "text": [
      "\u001B[38;5;4m[i] Saving to output directory: output\u001B[0m\n",
      "\u001B[38;5;4m[i] Using GPU: 0\u001B[0m\n",
      "\u001B[1m\n",
      "=========================== Initializing pipeline ===========================\u001B[0m\n",
      "\u001B[38;5;2m[+] Initialized pipeline\u001B[0m\n",
      "\u001B[1m\n",
      "============================= Training pipeline =============================\u001B[0m\n",
      "\u001B[38;5;4m[i] Pipeline: ['textcat']\u001B[0m\n",
      "\u001B[38;5;4m[i] Initial learn rate: 0.001\u001B[0m\n",
      "E    #       LOSS TEXTCAT  CATS_SCORE  SCORE \n",
      "---  ------  ------------  ----------  ------\n",
      "  0       0          0.25       39.07    0.39\n",
      "  0     200         52.40       42.10    0.42\n",
      "  0     400         40.54       64.22    0.64\n",
      "  0     600         36.29       69.91    0.70\n",
      "  0     800         30.33       78.28    0.78\n",
      "  0    1000         26.27       77.50    0.78\n",
      "  0    1200         24.56       80.52    0.81\n",
      "  0    1400         26.69       81.70    0.82\n",
      "  0    1600         25.73       81.98    0.82\n",
      "  0    1800         22.09       82.27    0.82\n",
      "  0    2000         27.23       82.98    0.83\n",
      "  0    2200         20.33       82.18    0.82\n",
      "  0    2400         20.45       84.26    0.84\n",
      "  0    2600         20.73       83.18    0.83\n",
      "  0    2800         20.62       84.99    0.85\n",
      "  0    3000         18.96       85.26    0.85\n",
      "  0    3200         17.40       85.34    0.85\n",
      "  0    3400         15.73       85.25    0.85\n",
      "  0    3600         19.61       85.67    0.86\n",
      "  0    3800         14.20       85.61    0.86\n",
      "  0    4000         18.11       85.70    0.86\n",
      "  0    4200         16.29       85.02    0.85\n",
      "  0    4400         13.76       85.85    0.86\n",
      "  0    4600         14.15       85.46    0.85\n",
      "  0    4800         15.43       85.85    0.86\n",
      "  0    5000         15.01       86.15    0.86\n",
      "  0    5200         12.93       85.87    0.86\n",
      "  0    5400         11.93       86.16    0.86\n",
      "  0    5600          9.41       86.60    0.87\n",
      "  0    5800         10.55       86.44    0.86\n",
      "  1    6000          5.50       86.37    0.86\n",
      "  1    6200         11.09       86.34    0.86\n",
      "  1    6400          5.04       86.10    0.86\n",
      "  1    6600          6.05       86.36    0.86\n",
      "  1    6800          6.95       85.82    0.86\n",
      "  1    7000          4.26       85.94    0.86\n",
      "  1    7200          6.17       85.82    0.86\n",
      "\u001B[38;5;2m[+] Saved pipeline to output directory\u001B[0m\n",
      "output\\model-last\n"
     ]
    }
   ],
   "source": [
    "!python -m spacy train config.cfg --output ./output --paths.train ./train.spacy --paths.dev ./valid.spacy --gpu-id 0"
   ]
  },
  {
   "cell_type": "code",
   "execution_count": 12,
   "metadata": {
    "id": "j1tnFjeaILJu",
    "colab": {
     "base_uri": "https://localhost:8080/"
    },
    "outputId": "1e7245b5-a03a-43dd-a105-1f88ba2c90dd"
   },
   "outputs": [
    {
     "name": "stdout",
     "output_type": "stream",
     "text": [
      "type : ‘quit’ to exit\n",
      "{'positive': 0.028318066149950027, 'negative': 0.9716819524765015}\n",
      "the sentiment is negative\n",
      "{'positive': 0.37664079666137695, 'negative': 0.623359203338623}\n",
      "the sentiment is negative\n"
     ]
    }
   ],
   "source": [
    "import spacy\n",
    "# load thebest model from training\n",
    "nlp = spacy.load(\"output/model-best\")\n",
    "text = \"\"\n",
    "print(\"type : ‘quit’ to exit\")\n",
    "# predict the sentiment until someone writes quit\n",
    "while text != \"quit\":\n",
    "    text = input(\"Please enter example input: \")\n",
    "    doc = nlp(text)\n",
    "    print(doc.cats)\n",
    "    if doc.cats['positive'] >.5:\n",
    "        print(f\"the sentiment is positive\")\n",
    "    else:\n",
    "        print(f\"the sentiment is negative\")"
   ]
  },
  {
   "cell_type": "code",
   "source": [],
   "metadata": {
    "id": "3z8PQema163A"
   },
   "execution_count": null,
   "outputs": []
  }
 ],
 "metadata": {
  "colab": {
   "provenance": []
  },
  "kernelspec": {
   "display_name": "Python 3",
   "language": "python",
   "name": "python3"
  },
  "language_info": {
   "codemirror_mode": {
    "name": "ipython",
    "version": 3
   },
   "file_extension": ".py",
   "mimetype": "text/x-python",
   "name": "python",
   "nbconvert_exporter": "python",
   "pygments_lexer": "ipython3",
   "version": "3.8.7"
  }
 },
 "nbformat": 4,
 "nbformat_minor": 0
}
